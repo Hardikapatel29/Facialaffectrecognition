{
 "cells": [
  {
   "cell_type": "code",
   "execution_count": 1,
   "metadata": {},
   "outputs": [
    {
     "name": "stderr",
     "output_type": "stream",
     "text": [
      "/Users/hardika/anaconda3/lib/python3.6/site-packages/h5py/__init__.py:36: FutureWarning: Conversion of the second argument of issubdtype from `float` to `np.floating` is deprecated. In future, it will be treated as `np.float64 == np.dtype(float).type`.\n",
      "  from ._conv import register_converters as _register_converters\n",
      "Using TensorFlow backend.\n"
     ]
    },
    {
     "name": "stdout",
     "output_type": "stream",
     "text": [
      "Downloading data from https://github.com/fchollet/deep-learning-models/releases/download/v0.1/vgg16_weights_tf_dim_ordering_tf_kernels_notop.h5\n",
      "58892288/58889256 [==============================] - 332s 6us/step\n"
     ]
    }
   ],
   "source": [
    "from keras.applications.vgg16 import VGG16\n",
    "from keras.preprocessing import image\n",
    "from keras.applications.vgg16 import preprocess_input\n",
    "import numpy as np\n",
    "\n",
    "model = VGG16(weights='imagenet', include_top=False)"
   ]
  },
  {
   "cell_type": "code",
   "execution_count": 9,
   "metadata": {},
   "outputs": [],
   "source": [
    "import numpy as np\n",
    "import os\n",
    "import time\n",
    "from keras.preprocessing import image\n",
    "from keras.applications.imagenet_utils import preprocess_input\n",
    "from imagenet_utils import decode_predictions\n",
    "from keras.layers import Dense, Activation, Flatten\n",
    "from keras.layers import merge, Input\n",
    "from keras.models import Model\n",
    "from keras.utils import np_utils\n",
    "from sklearn.utils import shuffle\n",
    "from sklearn.cross_validation import train_test_split"
   ]
  },
  {
   "cell_type": "code",
   "execution_count": 10,
   "metadata": {},
   "outputs": [],
   "source": [
    "PATH = os.getcwd()"
   ]
  },
  {
   "cell_type": "code",
   "execution_count": 11,
   "metadata": {},
   "outputs": [],
   "source": [
    "data_path = PATH + '/FULL_FACE_TRAIN'"
   ]
  },
  {
   "cell_type": "code",
   "execution_count": 12,
   "metadata": {},
   "outputs": [],
   "source": [
    "data_dir_list = os.listdir(data_path)"
   ]
  },
  {
   "cell_type": "code",
   "execution_count": 13,
   "metadata": {},
   "outputs": [],
   "source": [
    "img_data_list=[]"
   ]
  },
  {
   "cell_type": "code",
   "execution_count": 14,
   "metadata": {},
   "outputs": [
    {
     "name": "stdout",
     "output_type": "stream",
     "text": [
      "Loaded the images of dataset-Surprise face cropped\n",
      "\n",
      "Loaded the images of dataset-Disgust face cropped\n",
      "\n",
      "Loaded the images of dataset-Happy face cropped\n",
      "\n",
      "Loaded the images of dataset-Contempt face cropped\n",
      "\n",
      "Loaded the images of dataset-Angry face cropped\n",
      "\n",
      "Loaded the images of dataset-Sad face cropped\n",
      "\n",
      "Loaded the images of dataset-Fear face cropped\n",
      "\n"
     ]
    }
   ],
   "source": [
    "for dataset in data_dir_list:\n",
    "\timg_list=os.listdir(data_path+'/'+ dataset)\n",
    "\tprint ('Loaded the images of dataset-'+'{}\\n'.format(dataset))\n",
    "\tfor img in img_list:\n",
    "\t\timg_path = data_path + '/'+ dataset + '/'+ img\n",
    "\t\timg = image.load_img(img_path, target_size=(224, 224))\n",
    "\t\tx = image.img_to_array(img)\n",
    "\t\tx = np.expand_dims(x, axis=0)\n",
    "\t\tx = preprocess_input(x)\n",
    "#\t\tx = x/255\n",
    "\t\t#print('Input image shape:', x.shape)\n",
    "\t\timg_data_list.append(x)   "
   ]
  },
  {
   "cell_type": "code",
   "execution_count": 15,
   "metadata": {},
   "outputs": [],
   "source": [
    "img_data = np.array(img_data_list) # takes time\"\n",
    "        \n",
    "        # To bring data in the form (no. of images, row, col, channels)\n",
    "        #print (img_data.shape)\n",
    "img_data=np.rollaxis(img_data,1,0)\n",
    "img_data=img_data[0]\n",
    "       # print (img_data.shape) "
   ]
  },
  {
   "cell_type": "code",
   "execution_count": 16,
   "metadata": {},
   "outputs": [],
   "source": [
    "num_classes = 7\n",
    "num_of_samples = img_data.shape[0]\n",
    "labels = np.ones((num_of_samples,),dtype='int64')"
   ]
  },
  {
   "cell_type": "code",
   "execution_count": 17,
   "metadata": {},
   "outputs": [],
   "source": [
    "labels[0:540]=0\n",
    "labels[540:880]=1\n",
    "labels[880:1495]=2\n",
    "labels[1495:1611]=3\n",
    "labels[1611:2043]=4\n",
    "labels[2043:2363]=5\n",
    "labels[2363:2600]=6"
   ]
  },
  {
   "cell_type": "code",
   "execution_count": 18,
   "metadata": {},
   "outputs": [],
   "source": [
    "names = ['Surprised face','Sad face','Happy face','Fear face','Disgust face','Contempt face','Angry face']"
   ]
  },
  {
   "cell_type": "code",
   "execution_count": 19,
   "metadata": {},
   "outputs": [],
   "source": [
    "Y = np_utils.to_categorical(labels, num_classes)"
   ]
  },
  {
   "cell_type": "code",
   "execution_count": 20,
   "metadata": {},
   "outputs": [],
   "source": [
    "x,y = shuffle(img_data,Y, random_state=2) # TAKES TIME \n",
    "# Split the dataset\n",
    "X_train, X_test, y_train, y_test = train_test_split(x, y, test_size=0.3, random_state=2) "
   ]
  },
  {
   "cell_type": "markdown",
   "metadata": {},
   "source": [
    "# VGG16 MODEL"
   ]
  },
  {
   "cell_type": "code",
   "execution_count": 35,
   "metadata": {},
   "outputs": [
    {
     "name": "stdout",
     "output_type": "stream",
     "text": [
      "_________________________________________________________________\n",
      "Layer (type)                 Output Shape              Param #   \n",
      "=================================================================\n",
      "input_4 (InputLayer)         (None, 224, 224, 3)       0         \n",
      "_________________________________________________________________\n",
      "block1_conv1 (Conv2D)        (None, 224, 224, 64)      1792      \n",
      "_________________________________________________________________\n",
      "block1_conv2 (Conv2D)        (None, 224, 224, 64)      36928     \n",
      "_________________________________________________________________\n",
      "block1_pool (MaxPooling2D)   (None, 112, 112, 64)      0         \n",
      "_________________________________________________________________\n",
      "block2_conv1 (Conv2D)        (None, 112, 112, 128)     73856     \n",
      "_________________________________________________________________\n",
      "block2_conv2 (Conv2D)        (None, 112, 112, 128)     147584    \n",
      "_________________________________________________________________\n",
      "block2_pool (MaxPooling2D)   (None, 56, 56, 128)       0         \n",
      "_________________________________________________________________\n",
      "block3_conv1 (Conv2D)        (None, 56, 56, 256)       295168    \n",
      "_________________________________________________________________\n",
      "block3_conv2 (Conv2D)        (None, 56, 56, 256)       590080    \n",
      "_________________________________________________________________\n",
      "block3_conv3 (Conv2D)        (None, 56, 56, 256)       590080    \n",
      "_________________________________________________________________\n",
      "block3_pool (MaxPooling2D)   (None, 28, 28, 256)       0         \n",
      "_________________________________________________________________\n",
      "block4_conv1 (Conv2D)        (None, 28, 28, 512)       1180160   \n",
      "_________________________________________________________________\n",
      "block4_conv2 (Conv2D)        (None, 28, 28, 512)       2359808   \n",
      "_________________________________________________________________\n",
      "block4_conv3 (Conv2D)        (None, 28, 28, 512)       2359808   \n",
      "_________________________________________________________________\n",
      "block4_pool (MaxPooling2D)   (None, 14, 14, 512)       0         \n",
      "_________________________________________________________________\n",
      "block5_conv1 (Conv2D)        (None, 14, 14, 512)       2359808   \n",
      "_________________________________________________________________\n",
      "block5_conv2 (Conv2D)        (None, 14, 14, 512)       2359808   \n",
      "_________________________________________________________________\n",
      "block5_conv3 (Conv2D)        (None, 14, 14, 512)       2359808   \n",
      "_________________________________________________________________\n",
      "block5_pool (MaxPooling2D)   (None, 7, 7, 512)         0         \n",
      "_________________________________________________________________\n",
      "flatten (Flatten)            (None, 25088)             0         \n",
      "_________________________________________________________________\n",
      "fc1 (Dense)                  (None, 4096)              102764544 \n",
      "_________________________________________________________________\n",
      "fc2 (Dense)                  (None, 4096)              16781312  \n",
      "_________________________________________________________________\n",
      "predictions (Dense)          (None, 1000)              4097000   \n",
      "=================================================================\n",
      "Total params: 138,357,544\n",
      "Trainable params: 138,357,544\n",
      "Non-trainable params: 0\n",
      "_________________________________________________________________\n",
      "_________________________________________________________________\n",
      "Layer (type)                 Output Shape              Param #   \n",
      "=================================================================\n",
      "input_4 (InputLayer)         (None, 224, 224, 3)       0         \n",
      "_________________________________________________________________\n",
      "block1_conv1 (Conv2D)        (None, 224, 224, 64)      1792      \n",
      "_________________________________________________________________\n",
      "block1_conv2 (Conv2D)        (None, 224, 224, 64)      36928     \n",
      "_________________________________________________________________\n",
      "block1_pool (MaxPooling2D)   (None, 112, 112, 64)      0         \n",
      "_________________________________________________________________\n",
      "block2_conv1 (Conv2D)        (None, 112, 112, 128)     73856     \n",
      "_________________________________________________________________\n",
      "block2_conv2 (Conv2D)        (None, 112, 112, 128)     147584    \n",
      "_________________________________________________________________\n",
      "block2_pool (MaxPooling2D)   (None, 56, 56, 128)       0         \n",
      "_________________________________________________________________\n",
      "block3_conv1 (Conv2D)        (None, 56, 56, 256)       295168    \n",
      "_________________________________________________________________\n",
      "block3_conv2 (Conv2D)        (None, 56, 56, 256)       590080    \n",
      "_________________________________________________________________\n",
      "block3_conv3 (Conv2D)        (None, 56, 56, 256)       590080    \n",
      "_________________________________________________________________\n",
      "block3_pool (MaxPooling2D)   (None, 28, 28, 256)       0         \n",
      "_________________________________________________________________\n",
      "block4_conv1 (Conv2D)        (None, 28, 28, 512)       1180160   \n",
      "_________________________________________________________________\n",
      "block4_conv2 (Conv2D)        (None, 28, 28, 512)       2359808   \n",
      "_________________________________________________________________\n",
      "block4_conv3 (Conv2D)        (None, 28, 28, 512)       2359808   \n",
      "_________________________________________________________________\n",
      "block4_pool (MaxPooling2D)   (None, 14, 14, 512)       0         \n",
      "_________________________________________________________________\n",
      "block5_conv1 (Conv2D)        (None, 14, 14, 512)       2359808   \n",
      "_________________________________________________________________\n",
      "block5_conv2 (Conv2D)        (None, 14, 14, 512)       2359808   \n",
      "_________________________________________________________________\n",
      "block5_conv3 (Conv2D)        (None, 14, 14, 512)       2359808   \n",
      "_________________________________________________________________\n",
      "block5_pool (MaxPooling2D)   (None, 7, 7, 512)         0         \n",
      "_________________________________________________________________\n",
      "flatten (Flatten)            (None, 25088)             0         \n",
      "_________________________________________________________________\n",
      "fc1 (Dense)                  (None, 4096)              102764544 \n",
      "_________________________________________________________________\n",
      "fc2 (Dense)                  (None, 4096)              16781312  \n",
      "_________________________________________________________________\n",
      "output (Dense)               (None, 7)                 28679     \n",
      "=================================================================\n",
      "Total params: 134,289,223\n",
      "Trainable params: 134,289,223\n",
      "Non-trainable params: 0\n",
      "_________________________________________________________________\n"
     ]
    }
   ],
   "source": [
    "image_input = Input(shape=(224, 224, 3))\n",
    "\n",
    "model = VGG16(input_tensor=image_input, include_top=True,weights='imagenet')\n",
    "model.summary()\n",
    "last_layer = model.get_layer('fc2').output\n",
    "#x= Flatten(name='flatten')(last_layer)\n",
    "out = Dense(num_classes, activation='softmax', name='output')(last_layer)\n",
    "custom_vgg_model = Model(image_input, out)\n",
    "custom_vgg_model.summary()\n",
    "\n",
    "for layer in custom_vgg_model.layers[:-1]:\n",
    "\tlayer.trainable = False\n",
    "\n",
    "custom_vgg_model.layers[3].trainable\n",
    "\n",
    "custom_vgg_model.compile(loss='categorical_crossentropy',optimizer='rmsprop',metrics=['accuracy'])"
   ]
  },
  {
   "cell_type": "code",
   "execution_count": 36,
   "metadata": {},
   "outputs": [
    {
     "name": "stdout",
     "output_type": "stream",
     "text": [
      "Train on 1820 samples, validate on 780 samples\n",
      "Epoch 1/25\n",
      "1820/1820 [==============================] - 1115s 613ms/step - loss: 1.2376 - acc: 0.5802 - val_loss: 0.8241 - val_acc: 0.6872\n",
      "Epoch 2/25\n",
      "1820/1820 [==============================] - 1148s 631ms/step - loss: 0.5824 - acc: 0.7879 - val_loss: 0.4924 - val_acc: 0.8410\n",
      "Epoch 3/25\n",
      "1820/1820 [==============================] - 1159s 637ms/step - loss: 0.3655 - acc: 0.8769 - val_loss: 0.4485 - val_acc: 0.8410\n",
      "Epoch 4/25\n",
      "1820/1820 [==============================] - 1180s 648ms/step - loss: 0.2723 - acc: 0.9143 - val_loss: 0.3802 - val_acc: 0.8526\n",
      "Epoch 5/25\n",
      "1820/1820 [==============================] - 1170s 643ms/step - loss: 0.2129 - acc: 0.9291 - val_loss: 0.3184 - val_acc: 0.8897\n",
      "Epoch 6/25\n",
      "1820/1820 [==============================] - 1170s 643ms/step - loss: 0.1591 - acc: 0.9577 - val_loss: 0.1860 - val_acc: 0.9410\n",
      "Epoch 7/25\n",
      "1820/1820 [==============================] - 1162s 639ms/step - loss: 0.1203 - acc: 0.9665 - val_loss: 0.1940 - val_acc: 0.9333\n",
      "Epoch 8/25\n",
      "1820/1820 [==============================] - 1164s 640ms/step - loss: 0.0927 - acc: 0.9742 - val_loss: 0.2169 - val_acc: 0.9231\n",
      "Epoch 9/25\n",
      "1820/1820 [==============================] - 1170s 643ms/step - loss: 0.0766 - acc: 0.9797 - val_loss: 0.1104 - val_acc: 0.9679\n",
      "Epoch 10/25\n",
      "1820/1820 [==============================] - 1175s 646ms/step - loss: 0.0621 - acc: 0.9863 - val_loss: 0.1029 - val_acc: 0.9692\n",
      "Epoch 11/25\n",
      "1820/1820 [==============================] - 1172s 644ms/step - loss: 0.0491 - acc: 0.9896 - val_loss: 0.0944 - val_acc: 0.9821\n",
      "Epoch 12/25\n",
      "1820/1820 [==============================] - 1177s 647ms/step - loss: 0.0367 - acc: 0.9929 - val_loss: 0.1482 - val_acc: 0.9615\n",
      "Epoch 13/25\n",
      "1820/1820 [==============================] - 1179s 648ms/step - loss: 0.0310 - acc: 0.9956 - val_loss: 0.0968 - val_acc: 0.9731\n",
      "Epoch 14/25\n",
      "1820/1820 [==============================] - 1181s 649ms/step - loss: 0.0291 - acc: 0.9951 - val_loss: 0.2252 - val_acc: 0.9269\n",
      "Epoch 15/25\n",
      "1820/1820 [==============================] - 1167s 641ms/step - loss: 0.0260 - acc: 0.9940 - val_loss: 0.1226 - val_acc: 0.9641\n",
      "Epoch 16/25\n",
      "1820/1820 [==============================] - 1201s 660ms/step - loss: 0.0190 - acc: 0.9962 - val_loss: 0.1881 - val_acc: 0.9282\n",
      "Epoch 17/25\n",
      "1820/1820 [==============================] - 1223s 672ms/step - loss: 0.0158 - acc: 0.9973 - val_loss: 0.0778 - val_acc: 0.9731\n",
      "Epoch 18/25\n",
      "1820/1820 [==============================] - 1259s 692ms/step - loss: 0.0135 - acc: 0.9978 - val_loss: 0.0730 - val_acc: 0.9859\n",
      "Epoch 19/25\n",
      "1820/1820 [==============================] - 1248s 686ms/step - loss: 0.0139 - acc: 0.9978 - val_loss: 0.0977 - val_acc: 0.9769\n",
      "Epoch 20/25\n",
      "1820/1820 [==============================] - 1249s 686ms/step - loss: 0.0112 - acc: 0.9989 - val_loss: 0.1645 - val_acc: 0.9436\n",
      "Epoch 21/25\n",
      "1820/1820 [==============================] - 1258s 691ms/step - loss: 0.0081 - acc: 0.9995 - val_loss: 0.0636 - val_acc: 0.9833\n",
      "Epoch 22/25\n",
      "1820/1820 [==============================] - 1253s 689ms/step - loss: 0.0072 - acc: 1.0000 - val_loss: 0.0655 - val_acc: 0.9795\n",
      "Epoch 23/25\n",
      "1820/1820 [==============================] - 1240s 682ms/step - loss: 0.0071 - acc: 0.9989 - val_loss: 0.0656 - val_acc: 0.9846\n",
      "Epoch 24/25\n",
      "1820/1820 [==============================] - 1244s 684ms/step - loss: 0.0053 - acc: 0.9995 - val_loss: 0.0911 - val_acc: 0.9769\n",
      "Epoch 25/25\n",
      "1820/1820 [==============================] - 1262s 694ms/step - loss: 0.0051 - acc: 0.9995 - val_loss: 0.0845 - val_acc: 0.9808\n",
      "Training time: -29930.86615228653\n",
      "780/780 [==============================] - 340s 436ms/step\n",
      "[INFO] loss=0.0845, accuracy: 98.0769%\n"
     ]
    }
   ],
   "source": [
    "t=time.time()\n",
    "#\tt = now()\n",
    "hist = custom_vgg_model.fit(X_train, y_train, batch_size=32, epochs=25, verbose=1, validation_data=(X_test, y_test))\n",
    "print('Training time: %s' % (t - time.time()))\n",
    "(loss, accuracy) = custom_vgg_model.evaluate(X_test, y_test, batch_size=10, verbose=1)\n",
    "\n",
    "print(\"[INFO] loss={:.4f}, accuracy: {:.4f}%\".format(loss,accuracy * 100))"
   ]
  },
  {
   "cell_type": "code",
   "execution_count": 37,
   "metadata": {},
   "outputs": [],
   "source": [
    "import os,cv2\n",
    "import numpy as np\n",
    "import matplotlib.pyplot as plt\n",
    "\n",
    "from sklearn.utils import shuffle\n",
    "from sklearn.cross_validation import train_test_split\n",
    "\n",
    "from keras import backend as K\n",
    "#K.set_image_dim_ordering('th')\n",
    "\n",
    "from keras.utils import np_utils\n",
    "from keras.models import Sequential\n",
    "from keras.layers.core import Dense, Dropout, Activation, Flatten\n",
    "from keras.layers.convolutional import Convolution2D, MaxPooling2D\n",
    "from keras.optimizers import SGD,RMSprop,adam\n",
    "\n",
    "import numpy as np\n",
    "import os\n",
    "import time\n",
    "from keras.preprocessing import image\n",
    "from imagenet_utils import preprocess_input, decode_predictions\n",
    "from keras.layers import Dense, Activation, Flatten\n",
    "from keras.layers import merge, Input\n",
    "from keras.models import Model\n",
    "from keras.utils import np_utils\n",
    "from sklearn.utils import shuffle\n",
    "from sklearn.cross_validation import train_test_split"
   ]
  },
  {
   "cell_type": "code",
   "execution_count": 38,
   "metadata": {},
   "outputs": [
    {
     "data": {
      "image/png": "[encoded data removed]",
      "text/plain": [
       "<Figure size 1008x216 with 2 Axes>"
      ]
     },
     "metadata": {},
     "output_type": "display_data"
    }
   ],
   "source": [
    "plt.figure(figsize=(14,3))\n",
    "plt.subplot(1, 2, 1)\n",
    "plt.suptitle('Optimizer : Adam', fontsize=10)\n",
    "plt.ylabel('Loss', fontsize=16)\n",
    "plt.plot(hist.history['loss'], 'b', label='Training Loss')\n",
    "plt.plot(hist.history['val_loss'], 'r', label='Validation Loss')\n",
    "plt.legend(loc='upper right')\n",
    "\n",
    "plt.subplot(1, 2, 2)\n",
    "plt.ylabel('Accuracy', fontsize=16)\n",
    "plt.plot(hist.history['acc'], 'b', label='Training Accuracy')\n",
    "plt.plot(hist.history['val_acc'], 'r', label='Validation Accuracy')\n",
    "plt.legend(loc='lower right')\n",
    "plt.show()"
   ]
  },
  {
   "cell_type": "code",
   "execution_count": 39,
   "metadata": {},
   "outputs": [],
   "source": [
    "from sklearn.metrics import classification_report,confusion_matrix\n",
    "import itertools"
   ]
  },
  {
   "cell_type": "code",
   "execution_count": 40,
   "metadata": {},
   "outputs": [],
   "source": [
    "Y_pred = custom_vgg_model.predict(X_test)"
   ]
  },
  {
   "cell_type": "code",
   "execution_count": 41,
   "metadata": {},
   "outputs": [
    {
     "name": "stdout",
     "output_type": "stream",
     "text": [
      "[2 4 2 4 5 2 0 1 1 2 5 2 4 4 0 6 1 5 4 2 5 1 1 1 4 4 6 5 4 4 6 6 0 5 1 4 2\n",
      " 1 0 2 0 1 6 5 4 0 1 2 2 0 2 5 0 0 4 0 0 5 1 1 4 6 5 5 4 4 4 2 5 4 5 4 0 1\n",
      " 0 0 2 2 2 5 2 3 2 2 0 5 4 4 4 4 5 2 2 0 0 6 2 4 6 1 4 6 4 0 0 5 6 2 4 1 0\n",
      " 5 1 2 6 4 0 4 6 2 0 0 0 2 0 5 1 5 0 4 0 0 5 2 1 0 2 2 5 1 6 0 4 6 3 2 2 0\n",
      " 2 1 2 3 0 0 0 2 6 4 6 4 0 2 2 2 6 5 4 5 2 1 0 6 2 2 4 0 5 2 4 2 4 3 1 5 6\n",
      " 5 1 2 4 2 4 1 1 1 2 2 0 0 1 2 4 5 5 4 2 1 2 2 5 0 2 4 0 4 0 2 2 4 4 0 0 5\n",
      " 4 5 4 6 2 3 1 5 5 0 5 2 4 2 2 0 2 4 0 1 2 3 4 5 1 5 3 0 2 5 5 2 2 0 0 0 6\n",
      " 5 3 5 0 2 2 3 2 6 4 1 0 0 5 1 1 6 4 0 4 2 5 4 3 3 6 0 1 3 4 3 5 4 0 4 4 2\n",
      " 0 0 5 2 4 3 6 2 6 0 1 0 2 0 4 0 4 5 4 1 4 0 5 2 5 2 6 0 2 0 0 2 2 0 4 4 2\n",
      " 4 2 0 0 0 1 4 4 3 1 5 0 4 5 5 0 6 0 1 2 2 5 0 2 0 5 2 2 5 4 6 2 0 5 4 5 0\n",
      " 3 5 5 2 5 4 1 1 4 2 1 1 4 2 5 5 2 2 0 1 6 2 0 4 6 1 0 1 2 5 2 1 5 0 2 6 4\n",
      " 0 6 4 2 4 5 4 2 2 3 2 4 2 2 5 1 5 2 2 2 6 2 3 0 2 1 4 2 2 2 0 5 2 0 5 5 1\n",
      " 0 2 5 4 5 4 2 4 0 4 6 0 4 5 1 0 3 0 0 5 1 1 4 2 2 5 2 0 1 5 0 3 4 0 1 5 0\n",
      " 2 2 4 5 3 6 0 1 0 4 5 2 2 1 0 3 4 4 4 5 4 4 0 0 0 5 6 6 4 0 5 0 2 0 2 1 0\n",
      " 1 4 0 2 5 0 3 2 4 5 0 2 4 2 4 5 5 1 4 5 2 2 6 1 2 0 0 2 5 6 1 2 2 0 1 5 2\n",
      " 2 2 0 0 0 0 4 2 5 1 1 3 2 4 2 5 4 1 2 2 3 2 0 3 4 2 2 1 2 0 0 4 5 4 2 4 0\n",
      " 1 6 4 4 1 3 6 5 0 2 0 0 2 6 0 2 0 2 5 2 2 4 2 4 0 2 4 2 5 2 2 4 2 2 0 4 0\n",
      " 5 1 2 2 2 6 4 5 2 1 5 2 2 1 4 0 2 2 2 2 2 0 2 4 6 4 1 4 0 5 1 3 2 3 4 2 0\n",
      " 6 0 1 4 5 5 1 6 0 0 0 0 3 2 2 4 2 0 1 6 1 6 4 0 4 6 1 2 5 0 1 6 0 2 0 2 0\n",
      " 2 0 6 0 0 2 1 0 1 5 2 2 6 5 0 6 5 4 5 5 1 2 6 0 2 0 2 0 0 0 2 1 5 5 0 1 2\n",
      " 2 0 6 6 4 2 3 4 2 2 2 1 1 6 2 1 2 5 5 4 5 1 2 4 6 2 1 2 1 5 5 1 5 5 5 6 6\n",
      " 1 1 2]\n"
     ]
    }
   ],
   "source": [
    "y_pred = np.argmax(Y_pred, axis=1)\n",
    "print(y_pred)\n"
   ]
  },
  {
   "cell_type": "code",
   "execution_count": 42,
   "metadata": {},
   "outputs": [
    {
     "name": "stdout",
     "output_type": "stream",
     "text": [
      "                precision    recall  f1-score   support\n",
      "\n",
      "Surprised face       1.00      0.99      0.99       157\n",
      "      Sad face       0.98      0.97      0.97        96\n",
      "    Happy face       0.99      1.00      1.00       192\n",
      "     Fear face       0.97      0.91      0.94        33\n",
      "  Disgust face       0.95      1.00      0.97       122\n",
      " Contempt face       0.97      0.99      0.98       113\n",
      "    Angry face       1.00      0.91      0.95        67\n",
      "\n",
      "   avg / total       0.98      0.98      0.98       780\n",
      "\n"
     ]
    }
   ],
   "source": [
    "print(classification_report(np.argmax(y_test,axis=1), y_pred,target_names=names))"
   ]
  },
  {
   "cell_type": "code",
   "execution_count": 43,
   "metadata": {},
   "outputs": [],
   "source": [
    "def plot_confusion_matrix(cm, classes,\n",
    "                          normalize=False,\n",
    "                          title='Confusion matrix',\n",
    "                          cmap=plt.cm.Blues):\n",
    "    \"\"\"\n",
    "    This function prints and plots the confusion matrix.\n",
    "    Normalization can be applied by setting `normalize=True`.\n",
    "    \"\"\"\n",
    "    plt.imshow(cm, interpolation='nearest', cmap=cmap)\n",
    "    plt.title(title)\n",
    "    plt.colorbar()\n",
    "    tick_marks = np.arange(len(classes))\n",
    "    plt.xticks(tick_marks, classes, rotation=45)\n",
    "    plt.yticks(tick_marks, classes)\n",
    "\n",
    "    if normalize:\n",
    "        cm = cm.astype('float') / cm.sum(axis=1)[:, np.newaxis]\n",
    "       # cm=round(cm,3)\n",
    "        \n",
    "        print(\"Normalized confusion matrix\")\n",
    "    else:\n",
    "        print('Confusion matrix, without normalization')\n",
    "\n",
    "    print(cm)\n",
    "\n",
    "    thresh = cm.max() / 2.\n",
    "    for i, j in itertools.product(range(cm.shape[0]), range(cm.shape[1])):\n",
    "        plt.text(j, i, cm[i, j],\n",
    "                 horizontalalignment=\"center\",\n",
    "                 color=\"white\" if cm[i, j] > thresh else \"black\")\n",
    "\n",
    "    plt.tight_layout()\n",
    "    plt.ylabel('True label')\n",
    "    plt.xlabel('Predicted label')"
   ]
  },
  {
   "cell_type": "code",
   "execution_count": 44,
   "metadata": {},
   "outputs": [
    {
     "name": "stdout",
     "output_type": "stream",
     "text": [
      "Confusion matrix, without normalization\n",
      "[[155   1   0   0   0   1   0]\n",
      " [  0  93   0   0   2   1   0]\n",
      " [  0   0 192   0   0   0   0]\n",
      " [  0   0   0  30   3   0   0]\n",
      " [  0   0   0   0 122   0   0]\n",
      " [  0   0   0   1   0 112   0]\n",
      " [  0   1   1   0   2   2  61]]\n"
     ]
    },
    {
     "data": {
      "image/png": "[encoded data removed]",
      "text/plain": [
       "<Figure size 432x288 with 2 Axes>"
      ]
     },
     "metadata": {},
     "output_type": "display_data"
    }
   ],
   "source": [
    "cnf_matrix = (confusion_matrix(np.argmax(y_test,axis=1), y_pred))\n",
    "plot_confusion_matrix(cnf_matrix, classes=names, normalize=False,title='Confusion matrix')\n",
    "#plt.figure()\n",
    "plt.show()\n",
    "\n",
    "# STORING THE WEIGHTS\n",
    "fname=\"Weights-Full_Face_7class_25_epochs_vgg16.hdf5\"\n",
    "custom_vgg_model.save_weights(fname,overwrite=True)\n",
    "\n",
    "\n",
    "#  LOADING WEIGHTS\n",
    "fname= \"Weights-Full_Face_7class_25_epochs_vgg16.hdf5\"\n",
    "custom_vgg_model.load_weights(fname)\n",
    "        "
   ]
  },
  {
   "cell_type": "code",
   "execution_count": null,
   "metadata": {},
   "outputs": [],
   "source": []
  }
 ],
 "metadata": {
  "kernelspec": {
   "display_name": "Python 3",
   "language": "python",
   "name": "python3"
  },
  "language_info": {
   "codemirror_mode": {
    "name": "ipython",
    "version": 3
   },
   "file_extension": ".py",
   "mimetype": "text/x-python",
   "name": "python",
   "nbconvert_exporter": "python",
   "pygments_lexer": "ipython3",
   "version": "3.5.5"
  }
 },
 "nbformat": 4,
 "nbformat_minor": 2
}
